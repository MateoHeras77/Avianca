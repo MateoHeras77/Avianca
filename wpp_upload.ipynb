{
 "cells": [
  {
   "cell_type": "code",
   "execution_count": 21,
   "metadata": {},
   "outputs": [
    {
     "name": "stdout",
     "output_type": "stream",
     "text": [
      "Se han extraído 60 reportes y guardado en 'reports_concat.txt'.\n"
     ]
    }
   ],
   "source": [
    "import re\n",
    "\n",
    "# Archivos de entrada y salida\n",
    "input_filename = 'chat.txt'\n",
    "output_filename = 'reports_concat.txt'\n",
    "\n",
    "with open(input_filename, 'r', encoding='utf-8') as f:\n",
    "    chat_text = f.read()\n",
    "\n",
    "# 1) Extraer cada bloque de Flight Report.\n",
    "#    Capturamos desde \"✈️Flight Report ✈️\" hasta la próxima línea que inicia con \"[YYYY-\" o el final del texto.\n",
    "pattern = r\"(✈️Flight Report ✈️.*?)(?=\\n\\[[0-9]{4}-|\\Z)\"\n",
    "raw_reports = re.findall(pattern, chat_text, flags=re.DOTALL)\n",
    "\n",
    "cleaned_reports = []\n",
    "for report in raw_reports:\n",
    "    # 2) Separar en líneas\n",
    "    lines = report.splitlines()\n",
    "    \n",
    "    filtered_lines = []\n",
    "    for line in lines:\n",
    "        # 3) Remover caracteres invisibles como \\u200e\n",
    "        line = line.replace('\\u200e', '')\n",
    "        \n",
    "        # Quitar espacios en blanco extra\n",
    "        line_stripped = line.strip()\n",
    "        \n",
    "        # Si la línea:\n",
    "        #   - empieza con un timestamp \"[YYYY-MM-DD...\"\n",
    "        #   - contiene \"omitted\", \"deleted\", \"document\", \"pdf\"\n",
    "        #   - se queda vacía\n",
    "        # entonces la ignoramos.\n",
    "        if re.match(r'^\\[[0-9]{4}-', line_stripped):\n",
    "            continue\n",
    "        if re.search(r'(omitted|deleted|document|pdf)', line_stripped.lower()):\n",
    "            continue\n",
    "        if not line_stripped:\n",
    "            continue\n",
    "        \n",
    "        filtered_lines.append(line_stripped)\n",
    "    \n",
    "    # Unir líneas filtradas del reporte\n",
    "    cleaned_report = \"\\n\".join(filtered_lines)\n",
    "    cleaned_reports.append(cleaned_report)\n",
    "\n",
    "# 4) Unir todos los reportes con \"-----\" de separador\n",
    "output_text = \"\\n-----\\n\".join(cleaned_reports)\n",
    "\n",
    "# Guardar en archivo\n",
    "with open(output_filename, 'w', encoding='utf-8') as f:\n",
    "    f.write(output_text)\n",
    "\n",
    "print(f\"Se han extraído {len(cleaned_reports)} reportes y guardado en '{output_filename}'.\")\n"
   ]
  }
 ],
 "metadata": {
  "kernelspec": {
   "display_name": "LFScalculator",
   "language": "python",
   "name": "python3"
  },
  "language_info": {
   "codemirror_mode": {
    "name": "ipython",
    "version": 3
   },
   "file_extension": ".py",
   "mimetype": "text/x-python",
   "name": "python",
   "nbconvert_exporter": "python",
   "pygments_lexer": "ipython3",
   "version": "3.12.7"
  }
 },
 "nbformat": 4,
 "nbformat_minor": 2
}
